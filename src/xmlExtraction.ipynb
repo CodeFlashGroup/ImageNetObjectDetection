{
 "cells": [
  {
   "cell_type": "code",
   "execution_count": 5,
   "metadata": {
    "collapsed": true
   },
   "outputs": [],
   "source": [
    "import xml.etree.ElementTree as ET"
   ]
  },
  {
   "cell_type": "code",
   "execution_count": 6,
   "metadata": {},
   "outputs": [
    {
     "name": "stdout",
     "output_type": "stream",
     "text": [
      "elementDict = {'folder': 'ILSVRC2014_train_0000', 'fileName': 'ILSVRC2014_train_00000001', 'dbName': 'ILSVRC_2014', 'height': '354', 'width': '500', 'object0': {'name': 'n03770439', 'xmin': '132', 'xmax': '173', 'ymin': '246', 'ymax': '320'}, 'object1': {'name': 'n03770439', 'xmin': '225', 'xmax': '309', 'ymin': '244', 'ymax': '334'}, 'object2': {'name': 'n03770439', 'xmin': '319', 'xmax': '431', 'ymin': '229', 'ymax': '353'}, 'object3': {'name': 'n00007846', 'xmin': '120', 'xmax': '177', 'ymin': '157', 'ymax': '353'}, 'object4': {'name': 'n00007846', 'xmin': '176', 'xmax': '234', 'ymin': '148', 'ymax': '352'}, 'object5': {'name': 'n00007846', 'xmin': '230', 'xmax': '312', 'ymin': '145', 'ymax': '353'}, 'object6': {'name': 'n00007846', 'xmin': '303', 'xmax': '477', 'ymin': '12', 'ymax': '353'}} \n"
     ]
    }
   ],
   "source": [
    "class XmlExtraction:\n",
    "#|-----------------------------------------------------------------------------|\n",
    "# extractXMLData\n",
    "#|-----------------------------------------------------------------------------|\n",
    "    def extractXMLData(self, xmlFilePath):\n",
    "        \"\"\"\n",
    "        given function reads xml file, and return its values in the dictionary\n",
    "        \"\"\"\n",
    "        #parsing xml in tree\n",
    "        tree = ET.parse('../xmlData/lady.xml')\n",
    "        #getting root element of tree\n",
    "        root = tree.getroot()\n",
    "        #creating elementDict\n",
    "        elementDict = {}\n",
    "        counter=0\n",
    "        \n",
    "        #reading elementDict file details\n",
    "        elementDict['folder']=root.find('folder').text\n",
    "        elementDict['fileName'] = root.find('filename').text\n",
    "        elementDict['dbName'] = root.find('source/database').text\n",
    "        elementDict['height']=root.find('size/height').text\n",
    "        elementDict['width']=root.find('size/width').text\n",
    "        #looping over object to get object details \n",
    "        for obj in root.iter('object'):\n",
    "            objDict = {}\n",
    "            objDict['name']=obj.find('name').text\n",
    "            objDict['xmin']=obj.find('bndbox/xmin').text\n",
    "            objDict['xmax']=obj.find('bndbox/xmax').text\n",
    "            objDict['ymin']=obj.find('bndbox/ymin').text\n",
    "            objDict['ymax']=obj.find('bndbox/ymax').text\n",
    "            elementDict['object'+str(counter)]=objDict\n",
    "            counter+=1\n",
    "        \n",
    "        return elementDict    \n",
    "#|------------------------extractXMLData -ends---------------------------------|\n",
    "\n",
    "if __name__ == '__main__':\n",
    "    filePath = '../xmlData/lady.xml'\n",
    "    \n",
    "    xmlExtraction = XmlExtraction()\n",
    "    elementDict = xmlExtraction.extractXMLData(filePath)\n",
    "    \n",
    "    #debug\n",
    "    print ('elementDict = {} '.format(elementDict))\n",
    "    #debug -ends"
   ]
  },
  {
   "cell_type": "code",
   "execution_count": null,
   "metadata": {
    "collapsed": true
   },
   "outputs": [],
   "source": []
  }
 ],
 "metadata": {
  "kernelspec": {
   "display_name": "Python 3",
   "language": "python",
   "name": "python3"
  },
  "language_info": {
   "codemirror_mode": {
    "name": "ipython",
    "version": 3
   },
   "file_extension": ".py",
   "mimetype": "text/x-python",
   "name": "python",
   "nbconvert_exporter": "python",
   "pygments_lexer": "ipython3",
   "version": "3.6.1"
  }
 },
 "nbformat": 4,
 "nbformat_minor": 2
}
