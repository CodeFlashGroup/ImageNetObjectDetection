{
 "cells": [
  {
   "cell_type": "code",
   "execution_count": 26,
   "metadata": {
    "collapsed": true
   },
   "outputs": [],
   "source": [
    "import xml.etree.ElementTree as ET"
   ]
  },
  {
   "cell_type": "code",
   "execution_count": 27,
   "metadata": {
    "collapsed": true
   },
   "outputs": [],
   "source": [
    "tree = ET.parse('../xmlData/lady.xml')"
   ]
  },
  {
   "cell_type": "code",
   "execution_count": 28,
   "metadata": {
    "collapsed": true
   },
   "outputs": [],
   "source": [
    "root = tree.getroot()"
   ]
  },
  {
   "cell_type": "code",
   "execution_count": 29,
   "metadata": {},
   "outputs": [
    {
     "data": {
      "text/plain": [
       "'annotation'"
      ]
     },
     "execution_count": 29,
     "metadata": {},
     "output_type": "execute_result"
    }
   ],
   "source": [
    "root.tag"
   ]
  },
  {
   "cell_type": "code",
   "execution_count": 30,
   "metadata": {},
   "outputs": [
    {
     "data": {
      "text/plain": [
       "[<Element 'annotation' at 0x000000EEA8404B88>,\n",
       " <Element 'folder' at 0x000000EEA8404F48>,\n",
       " <Element 'filename' at 0x000000EEA84049F8>,\n",
       " <Element 'source' at 0x000000EEA8404908>,\n",
       " <Element 'database' at 0x000000EEA84048B8>,\n",
       " <Element 'size' at 0x000000EEA84044F8>,\n",
       " <Element 'width' at 0x000000EEA8404958>,\n",
       " <Element 'height' at 0x000000EEA8411958>,\n",
       " <Element 'object' at 0x000000EEA84113B8>,\n",
       " <Element 'name' at 0x000000EEA8411228>,\n",
       " <Element 'bndbox' at 0x000000EEA8411278>,\n",
       " <Element 'xmin' at 0x000000EEA8411728>,\n",
       " <Element 'xmax' at 0x000000EEA84116D8>,\n",
       " <Element 'ymin' at 0x000000EEA84115E8>,\n",
       " <Element 'ymax' at 0x000000EEA8411598>,\n",
       " <Element 'object' at 0x000000EEA84114F8>,\n",
       " <Element 'name' at 0x000000EEA84114A8>,\n",
       " <Element 'bndbox' at 0x000000EEA8411458>,\n",
       " <Element 'xmin' at 0x000000EEA84111D8>,\n",
       " <Element 'xmax' at 0x000000EEA8411048>,\n",
       " <Element 'ymin' at 0x000000EEA84119F8>,\n",
       " <Element 'ymax' at 0x000000EEA8411A48>,\n",
       " <Element 'object' at 0x000000EEA8411A98>,\n",
       " <Element 'name' at 0x000000EEA8411AE8>,\n",
       " <Element 'bndbox' at 0x000000EEA8411B38>,\n",
       " <Element 'xmin' at 0x000000EEA8411B88>,\n",
       " <Element 'xmax' at 0x000000EEA8411BD8>,\n",
       " <Element 'ymin' at 0x000000EEA8411C28>,\n",
       " <Element 'ymax' at 0x000000EEA8411C78>,\n",
       " <Element 'object' at 0x000000EEA8411CC8>,\n",
       " <Element 'name' at 0x000000EEA8411D18>,\n",
       " <Element 'bndbox' at 0x000000EEA8411D68>,\n",
       " <Element 'xmin' at 0x000000EEA8411DB8>,\n",
       " <Element 'xmax' at 0x000000EEA8411E08>,\n",
       " <Element 'ymin' at 0x000000EEA8411E58>,\n",
       " <Element 'ymax' at 0x000000EEA8411EA8>,\n",
       " <Element 'object' at 0x000000EEA8411EF8>,\n",
       " <Element 'name' at 0x000000EEA8411F48>,\n",
       " <Element 'bndbox' at 0x000000EEA8411F98>,\n",
       " <Element 'xmin' at 0x000000EEA841C048>,\n",
       " <Element 'xmax' at 0x000000EEA841C098>,\n",
       " <Element 'ymin' at 0x000000EEA841C0E8>,\n",
       " <Element 'ymax' at 0x000000EEA841C138>,\n",
       " <Element 'object' at 0x000000EEA841C188>,\n",
       " <Element 'name' at 0x000000EEA841C1D8>,\n",
       " <Element 'bndbox' at 0x000000EEA841C228>,\n",
       " <Element 'xmin' at 0x000000EEA841C278>,\n",
       " <Element 'xmax' at 0x000000EEA841C2C8>,\n",
       " <Element 'ymin' at 0x000000EEA841C318>,\n",
       " <Element 'ymax' at 0x000000EEA841C368>,\n",
       " <Element 'object' at 0x000000EEA841C3B8>,\n",
       " <Element 'name' at 0x000000EEA841C408>,\n",
       " <Element 'bndbox' at 0x000000EEA841C458>,\n",
       " <Element 'xmin' at 0x000000EEA841C4A8>,\n",
       " <Element 'xmax' at 0x000000EEA841C4F8>,\n",
       " <Element 'ymin' at 0x000000EEA841C548>,\n",
       " <Element 'ymax' at 0x000000EEA841C598>]"
      ]
     },
     "execution_count": 30,
     "metadata": {},
     "output_type": "execute_result"
    }
   ],
   "source": [
    "list(root.iter())"
   ]
  },
  {
   "cell_type": "code",
   "execution_count": 53,
   "metadata": {},
   "outputs": [
    {
     "name": "stdout",
     "output_type": "stream",
     "text": [
      "child1.tag = folder, child1.text=ILSVRC2014_train_0000\n",
      "child1.tag = filename, child1.text=ILSVRC2014_train_00000001\n",
      "child1.tag = source, child1.text=\n",
      "\t\t\n",
      "child1.tag = size, child1.text=\n",
      "\t\t\n",
      "child1.tag = object, child1.text=\n",
      "\t\t\n",
      "child1.tag = object, child1.text=\n",
      "\t\t\n",
      "child1.tag = object, child1.text=\n",
      "\t\t\n",
      "child1.tag = object, child1.text=\n",
      "\t\t\n",
      "child1.tag = object, child1.text=\n",
      "\t\t\n",
      "child1.tag = object, child1.text=\n",
      "\t\t\n",
      "child1.tag = object, child1.text=\n",
      "\t\t\n"
     ]
    }
   ],
   "source": [
    "for child1 in root:\n",
    "    print(\"child1.tag = {}, child1.text={}\".format(child1.tag, child1.text))\n",
    "    if child1.tag==source:\n",
    "        for child2 in child1:\n",
    "            print(\"child2.tag = {}, child2.text={}\".format(child2.tag, child2.text))\n",
    "        "
   ]
  },
  {
   "cell_type": "code",
   "execution_count": 48,
   "metadata": {},
   "outputs": [
    {
     "name": "stdout",
     "output_type": "stream",
     "text": [
      "folderName = ILSVRC2014_train_0000\n"
     ]
    }
   ],
   "source": [
    "folderName = root[0].text\n",
    "print ('folderName = {}'.format(folderName))"
   ]
  },
  {
   "cell_type": "code",
   "execution_count": 49,
   "metadata": {},
   "outputs": [
    {
     "name": "stdout",
     "output_type": "stream",
     "text": [
      "fileName = ILSVRC2014_train_00000001.JPEG\n"
     ]
    }
   ],
   "source": [
    "fileName = root[1].text+\".JPEG\"\n",
    "print ('fileName = {}'.format(fileName))"
   ]
  },
  {
   "cell_type": "code",
   "execution_count": 40,
   "metadata": {},
   "outputs": [
    {
     "name": "stdout",
     "output_type": "stream",
     "text": [
      "name: None\n"
     ]
    }
   ],
   "source": []
  },
  {
   "cell_type": "code",
   "execution_count": null,
   "metadata": {
    "collapsed": true
   },
   "outputs": [],
   "source": []
  }
 ],
 "metadata": {
  "kernelspec": {
   "display_name": "Python 3",
   "language": "python",
   "name": "python3"
  },
  "language_info": {
   "codemirror_mode": {
    "name": "ipython",
    "version": 3
   },
   "file_extension": ".py",
   "mimetype": "text/x-python",
   "name": "python",
   "nbconvert_exporter": "python",
   "pygments_lexer": "ipython3",
   "version": "3.6.1"
  }
 },
 "nbformat": 4,
 "nbformat_minor": 2
}
